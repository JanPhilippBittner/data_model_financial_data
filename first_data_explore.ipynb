{
 "cells": [
  {
   "cell_type": "code",
   "execution_count": 5,
   "id": "56e4a3f1-96d0-4dca-8a06-710841a79803",
   "metadata": {},
   "outputs": [],
   "source": [
    "import polars as pl\n",
    "\n",
    "from datetime import datetime\n",
    "\n",
    "from io import StringIO"
   ]
  },
  {
   "cell_type": "code",
   "execution_count": 2,
   "id": "982c2a01-c89d-4087-85ab-d3d2a9be1e30",
   "metadata": {},
   "outputs": [
    {
     "data": {
      "text/plain": [
       "'\\nNotes for the users_data_df:--> done\\n- addresses need to be split out--> Done\\n- then see if you can take the per_capita_income and make it more usefull --> Unfortunately means nothing --> done\\n- remove num_credit_cards --> done\\n\\nNotes for cards_data_df: --> done\\n- do historization layer, although there is close_date (maybe with year_pin_last_changed) --> Done\\n\\n\\nNotes for transactions_data_df:\\n- Join the erros into this to capture them, no need to split them separately\\n- join out the merchant things\\n\\nNotes for new Merchant_Table:\\n- contains the merchant_id and merchant_address and mcc_code (merchant_category)\\n- has 2 separate tables:\\n- Merchant_category and MErchant_Address\\n\\n\\nNotes for Merchant_address_table:\\n- one merchant can have multiple addresses\\n- so the Primary key is a structured key\\n- there is no historization (if addresses change there will be new entries)\\n\\n\\nNotes for the Client_address table: --> Done\\n- create it and historize it\\n- take out the number form the address and split it into house-number\\n'"
      ]
     },
     "execution_count": 2,
     "metadata": {},
     "output_type": "execute_result"
    }
   ],
   "source": [
    "\"\"\"\n",
    "Notes for the users_data_df:--> done\n",
    "- addresses need to be split out--> Done\n",
    "- then see if you can take the per_capita_income and make it more usefull --> Unfortunately means nothing --> done\n",
    "- remove num_credit_cards --> done\n",
    "\n",
    "Notes for cards_data_df: --> done\n",
    "- do historization layer, although there is close_date (maybe with year_pin_last_changed) --> Done\n",
    "\n",
    "\n",
    "Notes for transactions_data_df:\n",
    "- Join the erros into this to capture them, no need to split them separately\n",
    "- join out the merchant things\n",
    "\n",
    "Notes for new Merchant_Table:\n",
    "- contains the merchant_id and merchant_address and mcc_code (merchant_category)\n",
    "- has 2 separate tables:\n",
    "- Merchant_category and MErchant_Address\n",
    "\n",
    "\n",
    "Notes for Merchant_address_table:\n",
    "- one merchant can have multiple addresses\n",
    "- so the Primary key is a structured key\n",
    "- there is no historization (if addresses change there will be new entries)\n",
    "\n",
    "\n",
    "Notes for the Client_address table: --> Done\n",
    "- create it and historize it\n",
    "- take out the number form the address and split it into house-number\n",
    "\"\"\""
   ]
  },
  {
   "cell_type": "markdown",
   "id": "3d9e8fa0-40a9-4210-978c-bdb682f7e787",
   "metadata": {},
   "source": [
    "## Create LazyFrames for all Files"
   ]
  },
  {
   "cell_type": "code",
   "execution_count": 10,
   "id": "d9e5f8ac-2ae9-4fe5-b414-88097ecc3a41",
   "metadata": {},
   "outputs": [],
   "source": [
    "# CSVs\n",
    "cards_data_lf = pl.scan_csv(source=r\"C:\\Users\\Jan\\programming\\data_modelling_1\\data\\archive\\cards_data.csv\")\n",
    "transactions_data_lf = pl.scan_csv(r\"C:\\Users\\Jan\\programming\\data_modelling_1\\data\\archive\\transactions_data.csv\")\n",
    "users_data_lf = pl.scan_csv(r\"C:\\Users\\Jan\\programming\\data_modelling_1\\data\\archive\\users_data.csv\")\n",
    "# JSONS\n",
    "mcc_codes_lf = pl.scan_ndjson(source=r\"C:\\Users\\Jan\\programming\\data_modelling_1\\data\\archive\\mcc_codes.json\" , schema={\"mcc\":pl.datatypes.String,\"merchant_category\":pl.datatypes.String})\n",
    "train_fraud_labels_lf = pl.scan_ndjson(source=r\"C:\\Users\\Jan\\programming\\data_modelling_1\\data\\archive\\mcc_codes.json\")"
   ]
  },
  {
   "cell_type": "code",
   "execution_count": 11,
   "id": "90c5c19c-5904-4fa6-9305-6b8c1d3c3ce7",
   "metadata": {},
   "outputs": [
    {
     "ename": "ComputeError",
     "evalue": "Syntax at character 0 ('{')",
     "output_type": "error",
     "traceback": [
      "\u001b[1;31m---------------------------------------------------------------------------\u001b[0m",
      "\u001b[1;31mComputeError\u001b[0m                              Traceback (most recent call last)",
      "Cell \u001b[1;32mIn[11], line 1\u001b[0m\n\u001b[1;32m----> 1\u001b[0m \u001b[43mtrain_fraud_labels_lf\u001b[49m\u001b[38;5;241;43m.\u001b[39;49m\u001b[43mcollect\u001b[49m\u001b[43m(\u001b[49m\u001b[43m)\u001b[49m\n",
      "File \u001b[1;32m~\\anaconda3\\envs\\IU_FROM_MODEL_TO_PRODUCTION\\lib\\site-packages\\polars\\lazyframe\\frame.py:2021\u001b[0m, in \u001b[0;36mLazyFrame.collect\u001b[1;34m(self, type_coercion, predicate_pushdown, projection_pushdown, simplify_expression, slice_pushdown, comm_subplan_elim, comm_subexpr_elim, cluster_with_columns, collapse_joins, no_optimization, streaming, engine, background, _eager, **_kwargs)\u001b[0m\n\u001b[0;32m   2019\u001b[0m \u001b[38;5;66;03m# Only for testing purposes\u001b[39;00m\n\u001b[0;32m   2020\u001b[0m callback \u001b[38;5;241m=\u001b[39m _kwargs\u001b[38;5;241m.\u001b[39mget(\u001b[38;5;124m\"\u001b[39m\u001b[38;5;124mpost_opt_callback\u001b[39m\u001b[38;5;124m\"\u001b[39m, callback)\n\u001b[1;32m-> 2021\u001b[0m \u001b[38;5;28;01mreturn\u001b[39;00m wrap_df(\u001b[43mldf\u001b[49m\u001b[38;5;241;43m.\u001b[39;49m\u001b[43mcollect\u001b[49m\u001b[43m(\u001b[49m\u001b[43mcallback\u001b[49m\u001b[43m)\u001b[49m)\n",
      "\u001b[1;31mComputeError\u001b[0m: Syntax at character 0 ('{')"
     ]
    }
   ],
   "source": [
    "train_fraud_labels_lf.collect()"
   ]
  },
  {
   "cell_type": "markdown",
   "id": "fdcd2c4b-be6d-4efd-9d41-82b98cc82096",
   "metadata": {},
   "source": [
    "## Creaete users_data table"
   ]
  },
  {
   "cell_type": "code",
   "execution_count": null,
   "id": "bdde7fd1-cf48-42f9-8082-4506c0ff9b65",
   "metadata": {},
   "outputs": [],
   "source": [
    "users_data_lf_lz = users_data_lf.select([\n",
    "                      pl.col(\"id\").alias(\"client_id\")\n",
    "                      ,\"current_age\"\n",
    "                      ,\"retirement_age\"\n",
    "                      ,\"birth_year\"\n",
    "                      ,\"birth_month\" \n",
    "                      ,\"gender\"\n",
    "                      ,pl.int_range(pl.len(),dtype=pl.UInt32).alias(\"address_id\")\n",
    "                      ,\"address\"\n",
    "                      ,\"per_capita_income\"\n",
    "                      ,\"yearly_income\"\n",
    "                      ,\"total_debt\"\n",
    "                      ,\"credit_score\"\n",
    "                      ,pl.lit(datetime.now() , dtype=pl.Date).alias(\"valid_from\")\n",
    "                      ,pl.date(9999,12,31).alias(\"valid_to\")\n",
    "                     ]\n",
    "                    )"
   ]
  },
  {
   "cell_type": "markdown",
   "id": "a9d36c5c-4872-429d-890d-7057104a76a8",
   "metadata": {},
   "source": [
    "## Create CLIENT_ADRESS Table"
   ]
  },
  {
   "cell_type": "code",
   "execution_count": null,
   "id": "069a0585-bc72-45f9-85c6-491606bcc499",
   "metadata": {},
   "outputs": [],
   "source": [
    "# Creation of CLIENT_ADDRESS Table\n",
    "client_address = users_data_lf_lz.select([\"address_id\" , \"address\"])\n",
    "client_address = client_address.with_columns(\n",
    "    pl.col(\"address\").str.split(\" \").list.to_struct().alias(\"split_address\")\n",
    "    ,pl.lit(datetime.now() , dtype=pl.Date).alias(\"valid_from\")\n",
    "    ,pl.date(9999,12,31).alias(\"valid_to\")\n",
    ").unnest(columns=\"split_address\").collect()\n",
    "\n",
    "client_address = pl.LazyFrame(client_address.select(\n",
    "    \"address_id\"\n",
    "    ,pl.col(\"field_0\").alias(\"house_number\")\n",
    "    ,pl.concat_str([pl.col(\"field_1\"),pl.col(\"field_2\"),],separator=\" \").alias(\"street_name\")\n",
    "    ,\"valid_from\"\n",
    "    ,\"valid_to\"\n",
    "))"
   ]
  },
  {
   "cell_type": "markdown",
   "id": "c34930ec-c01a-44e3-b390-6c366e739ae2",
   "metadata": {},
   "source": [
    "## Create cards_data"
   ]
  },
  {
   "cell_type": "code",
   "execution_count": null,
   "id": "eab53796-fb09-4851-bcce-83127e3f7a08",
   "metadata": {},
   "outputs": [],
   "source": [
    "cards_data_lf = cards_data_lf.with_columns(\n",
    "    pl.lit(datetime.now() , dtype=pl.Date).alias(\"valid_from\")\n",
    "    ,pl.date(9999,12,31).alias(\"valid_to\")\n",
    ")"
   ]
  },
  {
   "cell_type": "markdown",
   "id": "a5fe813c-80ff-4a9b-969d-c1f55c917d71",
   "metadata": {},
   "source": [
    "## Create MERCHANT_ADDRESS table"
   ]
  },
  {
   "cell_type": "code",
   "execution_count": null,
   "id": "06fb507b-6260-4d13-9c31-d3aa44d559bc",
   "metadata": {},
   "outputs": [],
   "source": [
    "merchant_address_lf = transactions_data_lf.select(\n",
    "    \"merchant_id\"\n",
    "    ,pl.int_range(pl.len(),dtype=pl.UInt32).alias(\"merchant_address_id\")\n",
    "    ,\"merchant_city\"\n",
    "    ,\"merchant_state\"\n",
    "    ,\"zip\"\n",
    "    ,pl.lit(\"Y\").alias(\"active_flag\")\n",
    ")"
   ]
  },
  {
   "cell_type": "markdown",
   "id": "fd172bfd-8dae-4eac-a661-72844227bb1a",
   "metadata": {},
   "source": [
    "## Create transactions table"
   ]
  },
  {
   "cell_type": "code",
   "execution_count": null,
   "id": "c7bbde65-6bae-4572-88ef-77fe94fc78cc",
   "metadata": {},
   "outputs": [],
   "source": [
    "transactions_data_lf.collect()"
   ]
  },
  {
   "cell_type": "code",
   "execution_count": null,
   "id": "3d42b50a-8cd7-4533-a697-16c2c4f7cd9a",
   "metadata": {},
   "outputs": [],
   "source": [
    "transactions_data_lf.select(\n",
    "    \"id\"\n",
    "    ,pl.col(\"date\").str.strptime(pl.Datetime).alias(\"date\")\n",
    "    ,\"client_id\"\n",
    "    ,\"card_id\"\n",
    "    ,pl.col(\"amount\").str.replace(\"$\",\"\")\n",
    "    ,\"use_chip\"\n",
    "    ,\"merchant_id\"\n",
    "    ,pl.int_range(pl.len(),dtype=pl.UInt32).alias(\"merchant_address_id\")\n",
    "    ,\"mcc\"\n",
    "    ,\"errors\"\n",
    ").cast({\"date\":pl.Datetime}).collect().join(mcc_codes_lf,on=\"\")"
   ]
  },
  {
   "cell_type": "code",
   "execution_count": null,
   "id": "04d091d0-0db5-48d1-a6eb-88a9e085da7d",
   "metadata": {},
   "outputs": [],
   "source": [
    "transactions_data_lf\n",
    "merchant_dim = 1"
   ]
  }
 ],
 "metadata": {
  "kernelspec": {
   "display_name": "Python 3 (ipykernel)",
   "language": "python",
   "name": "python3"
  },
  "language_info": {
   "codemirror_mode": {
    "name": "ipython",
    "version": 3
   },
   "file_extension": ".py",
   "mimetype": "text/x-python",
   "name": "python",
   "nbconvert_exporter": "python",
   "pygments_lexer": "ipython3",
   "version": "3.10.14"
  }
 },
 "nbformat": 4,
 "nbformat_minor": 5
}
